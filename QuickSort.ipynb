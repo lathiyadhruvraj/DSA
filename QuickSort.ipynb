{
  "nbformat": 4,
  "nbformat_minor": 0,
  "metadata": {
    "colab": {
      "name": "QuickSort.ipynb",
      "provenance": [],
      "collapsed_sections": [],
      "authorship_tag": "ABX9TyPD4TdrsB1qMsyr9gMX2EhF",
      "include_colab_link": true
    },
    "kernelspec": {
      "name": "python3",
      "display_name": "Python 3"
    },
    "language_info": {
      "name": "python"
    }
  },
  "cells": [
    {
      "cell_type": "markdown",
      "metadata": {
        "id": "view-in-github",
        "colab_type": "text"
      },
      "source": [
        "<a href=\"https://colab.research.google.com/github/lathiyadhruvraj/DSA/blob/main/QuickSort.ipynb\" target=\"_parent\"><img src=\"https://colab.research.google.com/assets/colab-badge.svg\" alt=\"Open In Colab\"/></a>"
      ]
    },
    {
      "cell_type": "code",
      "source": [
        "# QUICK SORT ALGO BASED ON PIVOT (How partition is)\n",
        "\n",
        "arr = [50, 70, 80, 30, 40 ,88, 19, 27, 69]\n",
        "\n",
        "def partition(arr, low, high):\n",
        "  p = arr[low]\n",
        "  i = low\n",
        "\n",
        "  for j in range(low+1, high+1):\n",
        "\n",
        "    if arr[j] <= p:\n",
        "      i = i+1\n",
        "      arr[i], arr[j]  = arr[j], arr[i]\n",
        "\n",
        "  arr[i], arr[low] = arr[low], arr[i]\n",
        "\n",
        "  return i\n",
        "\n",
        "# print(partition(arr))\n"
      ],
      "metadata": {
        "id": "gycRHZaiU8bo"
      },
      "execution_count": 50,
      "outputs": []
    },
    {
      "cell_type": "code",
      "source": [
        "def QuickSort(arr, low, high):\n",
        "  length = len(arr)\n",
        "  if length == 1:\n",
        "      return arr\n",
        "\n",
        "  if low<high:\n",
        "    p = partition(arr, low, high)\n",
        "    QuickSort(arr, low, p-1)\n",
        "    QuickSort(arr, p+1, high)\n",
        "\n"
      ],
      "metadata": {
        "id": "XoG3ms9LWeEZ"
      },
      "execution_count": 51,
      "outputs": []
    },
    {
      "cell_type": "code",
      "source": [
        "import time\n",
        "t1 = time.time()\n",
        "QuickSort(arr, 0, len(arr)-1)\n",
        "time = time.time() - t1\n",
        "print(time)\n",
        "print(arr)"
      ],
      "metadata": {
        "colab": {
          "base_uri": "https://localhost:8080/"
        },
        "id": "-y3Im6Ot8Tw6",
        "outputId": "9e15a486-2b7f-4ec5-da71-a12bd306ca08"
      },
      "execution_count": 52,
      "outputs": [
        {
          "output_type": "stream",
          "name": "stdout",
          "text": [
            "6.175041198730469e-05\n",
            "[19, 27, 30, 40, 50, 69, 70, 80, 88]\n"
          ]
        }
      ]
    },
    {
      "cell_type": "code",
      "source": [
        "a1 = [1, 2, 3, 4, 5, 6 ,7 ,8 ,9, 10]\n",
        "\n",
        "import time\n",
        "t1 = time.time()\n",
        "QuickSort(a1, 0, len(a1)-1)\n",
        "time = time.time() - t1\n",
        "print(time)\n",
        "print(a1)"
      ],
      "metadata": {
        "colab": {
          "base_uri": "https://localhost:8080/"
        },
        "id": "-8lq1y6l_ss2",
        "outputId": "b38e3db0-d60d-4a37-d605-f3002003c05a"
      },
      "execution_count": 64,
      "outputs": [
        {
          "output_type": "stream",
          "name": "stdout",
          "text": [
            "6.771087646484375e-05\n",
            "[1, 2, 3, 4, 5, 6, 7, 8, 9, 10]\n"
          ]
        }
      ]
    },
    {
      "cell_type": "code",
      "source": [
        "# RANDOMIZED QUICKSORT\n",
        "import random\n",
        "\n",
        "arr = [1, 2, 3, 4, 5, 6, 7, 8, 9, 10]\n",
        "i = random.randint(0,len(arr)-1)"
      ],
      "metadata": {
        "id": "YRqHwEl2Adp5"
      },
      "execution_count": 69,
      "outputs": []
    },
    {
      "cell_type": "code",
      "source": [
        "arr[i], arr[0] = arr[0], arr[i]"
      ],
      "metadata": {
        "id": "8Cbi3wnyW2Mu"
      },
      "execution_count": 70,
      "outputs": []
    },
    {
      "cell_type": "code",
      "source": [
        "arr"
      ],
      "metadata": {
        "colab": {
          "base_uri": "https://localhost:8080/"
        },
        "id": "cLVzDsbW5ue3",
        "outputId": "982685d2-524f-496a-cfac-5e76c9dc6927"
      },
      "execution_count": 71,
      "outputs": [
        {
          "output_type": "execute_result",
          "data": {
            "text/plain": [
              "[3, 2, 1, 4, 5, 6, 7, 8, 9, 10]"
            ]
          },
          "metadata": {},
          "execution_count": 71
        }
      ]
    },
    {
      "cell_type": "code",
      "execution_count": null,
      "metadata": {
        "id": "gqM8o_gOSHDf"
      },
      "outputs": [],
      "source": [
        "# Q1 FIND MAXIMUM SUB-ARRAY SUM\n",
        "\n",
        "arr = [4, 9, -5, 6, -15, 8, 12, -7, 1]\n",
        "#arr = [-1, -3, 5, -4, 3, -6, 9, 2]"
      ]
    },
    {
      "cell_type": "code",
      "source": [
        ""
      ],
      "metadata": {
        "id": "PFpidFW55_Ot"
      },
      "execution_count": 72,
      "outputs": []
    },
    {
      "cell_type": "code",
      "source": [
        "import time\n",
        "t1 = time.time()\n",
        "QuickSort(arr, 0, len(arr)-1)\n",
        "time = time.time() - t1\n",
        "print(time)\n",
        "print(arr)"
      ],
      "metadata": {
        "colab": {
          "base_uri": "https://localhost:8080/"
        },
        "id": "YI_uxyEK51an",
        "outputId": "8c471834-69b4-4e03-a2d4-d27dd33a0509"
      },
      "execution_count": 72,
      "outputs": [
        {
          "output_type": "stream",
          "name": "stdout",
          "text": [
            "0.0002911090850830078\n",
            "[1, 2, 3, 4, 5, 6, 7, 8, 9, 10]\n"
          ]
        }
      ]
    },
    {
      "cell_type": "code",
      "source": [
        "def MaxFromSubArray(arr):\n",
        "  curr_sum = 0\n",
        "  max_sum = arr[0]\n",
        "\n",
        "  for i in range(len(arr)):\n",
        "    curr_sum += arr[i]\n",
        "    max_sum = max(max_sum, curr_sum)        #TIME COMPLEXITY = O(N)\n",
        "\n",
        "    if arr[i] < 0:\n",
        "      curr_sum = 0\n",
        "\n",
        "  return max_sum"
      ],
      "metadata": {
        "id": "pgYORQ0TS0hl"
      },
      "execution_count": null,
      "outputs": []
    },
    {
      "cell_type": "code",
      "source": [
        "print(MaxFromSubArray(arr))"
      ],
      "metadata": {
        "colab": {
          "base_uri": "https://localhost:8080/"
        },
        "id": "omcEKR2TULV_",
        "outputId": "b05e3780-b8c1-4fb3-8c7d-f098658c4bfc"
      },
      "execution_count": null,
      "outputs": [
        {
          "output_type": "stream",
          "name": "stdout",
          "text": [
            "20\n"
          ]
        }
      ]
    }
  ]
}