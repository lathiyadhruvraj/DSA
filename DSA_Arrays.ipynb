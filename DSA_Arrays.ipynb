{
  "nbformat": 4,
  "nbformat_minor": 0,
  "metadata": {
    "colab": {
      "name": "DSA Arrays.ipynb",
      "provenance": [],
      "collapsed_sections": [],
      "authorship_tag": "ABX9TyNTyA6ID3s8JkvbRnoZP63f",
      "include_colab_link": true
    },
    "kernelspec": {
      "name": "python3",
      "display_name": "Python 3"
    },
    "language_info": {
      "name": "python"
    }
  },
  "cells": [
    {
      "cell_type": "markdown",
      "metadata": {
        "id": "view-in-github",
        "colab_type": "text"
      },
      "source": [
        "<a href=\"https://colab.research.google.com/github/lathiyadhruvraj/DSA/blob/main/DSA_Arrays.ipynb\" target=\"_parent\"><img src=\"https://colab.research.google.com/assets/colab-badge.svg\" alt=\"Open In Colab\"/></a>"
      ]
    },
    {
      "cell_type": "markdown",
      "source": [
        "### Q1. Count pair with total sum of target value"
      ],
      "metadata": {
        "id": "uoI4sBADJp6B"
      }
    },
    {
      "cell_type": "code",
      "execution_count": 1,
      "metadata": {
        "id": "JPHWgwDIJhPV"
      },
      "outputs": [],
      "source": [
        "# Approach 1\n",
        "# Time: O(n), Space: O(n)\n",
        "\n",
        "def count_pairs(arr, target_val):\n",
        "  set_ = set()\n",
        "  count = 0\n",
        "\n",
        "  n = len(arr)\n",
        "  for i in range(n):\n",
        "    find_val = target_val - arr[i]\n",
        "    if find_val in set_:\n",
        "      count = count + 1\n",
        "    set_.add(arr[i])\n",
        "\n",
        "  return count"
      ]
    },
    {
      "cell_type": "code",
      "source": [
        "print(count_pairs([-2, 1, 2, 7, 8, -3, 5], 5))"
      ],
      "metadata": {
        "colab": {
          "base_uri": "https://localhost:8080/"
        },
        "id": "PkaTjXDtL5_U",
        "outputId": "696e78a6-2385-40d0-daa3-a0209e531ea4"
      },
      "execution_count": 2,
      "outputs": [
        {
          "output_type": "stream",
          "name": "stdout",
          "text": [
            "2\n"
          ]
        }
      ]
    },
    {
      "cell_type": "code",
      "source": [
        "# Approach 2\n",
        "# Time: O(nlog(n)), Space: O(1)\n",
        "\n",
        "def cnt_pairs(arr, target_val):\n",
        "  arr.sort()\n",
        "  print(arr)\n",
        "  \n",
        "  pt1 = 0\n",
        "  pt2 = len(arr)-1\n",
        "  count = 0\n",
        "\n",
        "  while(pt1 < pt2):\n",
        "    smaller_no = arr[pt1]\n",
        "    bigger_no = arr[pt2]\n",
        "    sum = (smaller_no + bigger_no)\n",
        "\n",
        "    if sum == target_val:\n",
        "      count = count + 1\n",
        "      pt1 = pt1 + 1\n",
        "      pt2 = pt2 - 1\n",
        "    elif sum > target_val:\n",
        "      pt2 = pt2 - 1\n",
        "    else:\n",
        "      pt1 = pt1 + 1\n",
        "  return count"
      ],
      "metadata": {
        "id": "EU1Gr9MnMWiR"
      },
      "execution_count": 3,
      "outputs": []
    },
    {
      "cell_type": "code",
      "source": [
        "print(cnt_pairs([-2, 1, 2, 7, 8, -3, 5], 5))"
      ],
      "metadata": {
        "colab": {
          "base_uri": "https://localhost:8080/"
        },
        "id": "5MtKLb9aPRx1",
        "outputId": "955766d2-0126-4521-9155-0853208b0b2c"
      },
      "execution_count": 4,
      "outputs": [
        {
          "output_type": "stream",
          "name": "stdout",
          "text": [
            "[-3, -2, 1, 2, 5, 7, 8]\n",
            "2\n"
          ]
        }
      ]
    },
    {
      "cell_type": "markdown",
      "source": [
        "## Q2. Check if subaaray with 0 sum exists or not"
      ],
      "metadata": {
        "id": "RQtvWWDIUjyo"
      }
    },
    {
      "cell_type": "code",
      "source": [
        "#  brute force\n",
        "# time: O(n2)\n",
        "\n",
        "def chek_subaaray(arr):\n",
        "  n = len(arr)\n",
        "  count = 0\n",
        "  for i in range(n):\n",
        "    for j in range(i, n): \n",
        "      total = sum(arr[i:j+1])\n",
        "      if total == 0:\n",
        "        print(arr[i:j+1], total)\n",
        "        count += 1\n",
        "  if count < 1:\n",
        "    return \"False\"\n",
        "  else:\n",
        "    return count\n",
        "\n"
      ],
      "metadata": {
        "id": "AU34o_z1P0xK"
      },
      "execution_count": 5,
      "outputs": []
    },
    {
      "cell_type": "code",
      "source": [
        "print(chek_subaaray([-2,  2, 7, -7]))"
      ],
      "metadata": {
        "colab": {
          "base_uri": "https://localhost:8080/"
        },
        "id": "AxtCEkhUe-TJ",
        "outputId": "6723f45f-5e07-4de5-e431-fd833e8ed866"
      },
      "execution_count": 6,
      "outputs": [
        {
          "output_type": "stream",
          "name": "stdout",
          "text": [
            "[-2, 2] 0\n",
            "[-2, 2, 7, -7] 0\n",
            "[7, -7] 0\n",
            "3\n"
          ]
        }
      ]
    },
    {
      "cell_type": "code",
      "source": [
        "# Time O(n)    Space O(n)\n",
        "\n",
        "def check_sub(arr):\n",
        "\n",
        "  # Maintain the PREFIX SUM ARRAY AND ONE SET FOR CROSS CHECK\n",
        "  prefix_sum = []\n",
        "  set_ = set()\n",
        "  \n",
        "  n = len(arr)\n",
        "  for i in range(n):\n",
        "    if i==0:\n",
        "      prefix_sum.append(arr[i])\n",
        "    else:\n",
        "      sum = prefix_sum[i-1] + arr[i]\n",
        "      prefix_sum.append(sum)\n",
        "  \n",
        "  print(\"prefix_sum :-\", prefix_sum)\n",
        "  for i in prefix_sum:  \n",
        "    if i in set_:  # if same no present in prefix_sum then from next no to the encountered no is the subaaray\n",
        "      print(i)\n",
        "      return \"True\"\n",
        "    set_.add(i)\n",
        "\n",
        "  if 0 in set_:    # if 0 present at 4th index --> till 4th all is in the subarray --> whose sum = 0 \n",
        "    return \"True\"\n",
        "\n",
        "    \n"
      ],
      "metadata": {
        "id": "iWXwh-3ifCeI"
      },
      "execution_count": 16,
      "outputs": []
    },
    {
      "cell_type": "code",
      "source": [
        "print(check_sub([-2, 7, 8, 3,  -3]))"
      ],
      "metadata": {
        "colab": {
          "base_uri": "https://localhost:8080/"
        },
        "id": "XtZY5RkLqUWw",
        "outputId": "65b058dc-f3f4-40dd-a22c-2d87d4443d3a"
      },
      "execution_count": 17,
      "outputs": [
        {
          "output_type": "stream",
          "name": "stdout",
          "text": [
            "prefix_sum :- [-2, 5, 13, 16, 13]\n",
            "13\n",
            "True\n"
          ]
        }
      ]
    },
    {
      "cell_type": "markdown",
      "source": [
        "## Q3. PRINT ALL SUBARRAY WITH 0 SUM"
      ],
      "metadata": {
        "id": "pS6sMS5Nts6U"
      }
    },
    {
      "cell_type": "code",
      "source": [
        "def return_zero_subarr(arr):\n",
        "  zero_subarr = []\n",
        "  n = len(arr)\n",
        "  count = 0\n",
        "  for i in range(n):\n",
        "    for j in range(i, n): \n",
        "      total = sum(arr[i:j+1])\n",
        "      if total == 0:\n",
        "        zero_subarr.append(arr[i:j+1])\n",
        "        count += 1\n",
        "  if count < 1:\n",
        "    return False\n",
        "  else:\n",
        "    return zero_subarr"
      ],
      "metadata": {
        "id": "tqzqRudmqZUt"
      },
      "execution_count": 20,
      "outputs": []
    },
    {
      "cell_type": "code",
      "source": [
        "print(return_zero_subarr([-2,  2, 7, -7]))"
      ],
      "metadata": {
        "colab": {
          "base_uri": "https://localhost:8080/"
        },
        "id": "Vgwj4oms5JVY",
        "outputId": "c57deebc-7765-4649-8c4a-744f0afb7fa5"
      },
      "execution_count": 21,
      "outputs": [
        {
          "output_type": "stream",
          "name": "stdout",
          "text": [
            "[[-2, 2], [-2, 2, 7, -7], [7, -7]]\n"
          ]
        }
      ]
    },
    {
      "cell_type": "code",
      "source": [
        ""
      ],
      "metadata": {
        "id": "QdT1BKqF5Un8"
      },
      "execution_count": null,
      "outputs": []
    },
    {
      "cell_type": "markdown",
      "source": [
        "#### Q4. Sort binary array in linear time"
      ],
      "metadata": {
        "id": "jyzFQmEM4z5-"
      }
    },
    {
      "cell_type": "code",
      "source": [
        "# BRUTE FORCE\n",
        "\n",
        "def sort_binary(arr):\n",
        "  zeros = 0\n",
        "\n",
        "  for i in arr:\n",
        "    if i==0:\n",
        "      zeros+=1\n",
        "   \n",
        "  for i in range(len(arr)):\n",
        "    if i < zeros:\n",
        "      arr[i] = 0\n",
        "    else:\n",
        "      arr[i] = 1\n",
        "  return arr\n",
        " "
      ],
      "metadata": {
        "id": "H-zLmSFI4ySA"
      },
      "execution_count": 50,
      "outputs": []
    },
    {
      "cell_type": "code",
      "source": [
        "print(sort_binary([0, 0, 1, 1, 0, 1, 0, 1 , 1]))"
      ],
      "metadata": {
        "colab": {
          "base_uri": "https://localhost:8080/"
        },
        "id": "1ychig6w7cCX",
        "outputId": "d901d227-bcad-4f08-afd8-0147b0380921"
      },
      "execution_count": 51,
      "outputs": [
        {
          "output_type": "stream",
          "name": "stdout",
          "text": [
            "[0, 0, 0, 0, 1, 1, 1, 1, 1]\n"
          ]
        }
      ]
    },
    {
      "cell_type": "code",
      "source": [
        "def sort_bin(arr):\n",
        "  idx = 0\n",
        "  start = 0\n",
        "\n",
        "  while idx < len(arr):\n",
        "    if arr[idx] == 0:\n",
        "      arr[idx], arr[start] = arr[start], arr[idx]\n",
        "      start += 1\n",
        "    idx+=1\n",
        "  return arr"
      ],
      "metadata": {
        "id": "AEVcmLuJ7oER"
      },
      "execution_count": 54,
      "outputs": []
    },
    {
      "cell_type": "code",
      "source": [
        "print(sort_bin([0, 0, 1, 1, 0, 1, 0, 1 , 1]))"
      ],
      "metadata": {
        "colab": {
          "base_uri": "https://localhost:8080/"
        },
        "id": "C22zdZX7CgrF",
        "outputId": "6df20f64-ed0f-4088-c625-1a026ec8fe3d"
      },
      "execution_count": 55,
      "outputs": [
        {
          "output_type": "stream",
          "name": "stdout",
          "text": [
            "[0, 0, 0, 0, 1, 1, 1, 1, 1]\n"
          ]
        }
      ]
    },
    {
      "cell_type": "markdown",
      "source": [
        "## Q5. "
      ],
      "metadata": {
        "id": "DLRLKD8ZDiDU"
      }
    },
    {
      "cell_type": "code",
      "source": [
        ""
      ],
      "metadata": {
        "id": "a3CrAMJOCjT2"
      },
      "execution_count": null,
      "outputs": []
    }
  ]
}